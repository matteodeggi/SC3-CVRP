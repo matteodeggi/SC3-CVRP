{
 "cells": [
  {
   "cell_type": "markdown",
   "source": [
    "# Comparison between different solutions"
   ],
   "metadata": {
    "colab_type": "text",
    "id": "6zQVhQqP8gBW"
   }
  },
  {
   "cell_type": "markdown",
   "source": [
    "In this notebook we'll compare all the solutions that were tested before deciding on the final one."
   ],
   "metadata": {
    "colab_type": "text",
    "id": "lAyx4Wfr8gBZ"
   }
  },
  {
   "cell_type": "markdown",
   "source": [
    "## Installations and imports"
   ],
   "metadata": {
    "colab_type": "text",
    "id": "Cbqt2Xc88gBa"
   }
  },
  {
   "cell_type": "code",
   "execution_count": 1,
   "source": [
    "!pip install haversine ortools pulp numba"
   ],
   "outputs": [
    {
     "output_type": "stream",
     "name": "stdout",
     "text": [
      "Requirement already satisfied: haversine in /usr/local/lib/python3.6/dist-packages (2.2.0)\n",
      "Requirement already satisfied: ortools in /usr/local/lib/python3.6/dist-packages (7.5.7466)\n",
      "Requirement already satisfied: pulp in /usr/local/lib/python3.6/dist-packages (2.0)\n",
      "Requirement already satisfied: numba in /usr/local/lib/python3.6/dist-packages (0.47.0)\n",
      "Requirement already satisfied: protobuf>=3.11.2 in /usr/local/lib/python3.6/dist-packages (from ortools) (3.11.3)\n",
      "Requirement already satisfied: six>=1.10 in /usr/local/lib/python3.6/dist-packages (from ortools) (1.12.0)\n",
      "Requirement already satisfied: pyparsing>=2.0.1 in /usr/local/lib/python3.6/dist-packages (from pulp) (2.4.6)\n",
      "Requirement already satisfied: llvmlite>=0.31.0dev0 in /usr/local/lib/python3.6/dist-packages (from numba) (0.31.0)\n",
      "Requirement already satisfied: setuptools in /usr/local/lib/python3.6/dist-packages (from numba) (45.1.0)\n",
      "Requirement already satisfied: numpy in /usr/local/lib/python3.6/dist-packages (from numba) (1.17.5)\n"
     ]
    }
   ],
   "metadata": {
    "colab": {
     "base_uri": "https://localhost:8080/",
     "height": 187
    },
    "colab_type": "code",
    "executionInfo": {
     "elapsed": 5542,
     "status": "ok",
     "timestamp": 1583232289794,
     "user": {
      "displayName": "Gianluca Pagliara",
      "photoUrl": "https://lh3.googleusercontent.com/a-/AOh14GipTygSeqas8l1Ns-K8gi2dNU2gXVdabyAz-QxV-w=s64",
      "userId": "02779007521581184687"
     },
     "user_tz": -60
    },
    "id": "AiIzZYzQ8gBf",
    "outputId": "4c8af87a-c1a1-4add-b8ec-30bb3f9efbc1"
   }
  },
  {
   "cell_type": "code",
   "execution_count": 2,
   "source": [
    "import pandas as pd\r\n",
    "from Simulation import Simulation\r\n",
    "from GeneticAlgorithmGraph import GeneticAlgorithmGraph as GAGraph\r\n",
    "from GoogleRouting import GoogleRouting\r\n",
    "from AdjustedKMeans import AdjustedKMeans"
   ],
   "outputs": [],
   "metadata": {
    "colab": {},
    "colab_type": "code",
    "id": "L_dsaRBY8gBj"
   }
  },
  {
   "cell_type": "markdown",
   "source": [
    "## Data loading and cleaning"
   ],
   "metadata": {
    "colab_type": "text",
    "id": "dkwIwIv68gBn"
   }
  },
  {
   "cell_type": "code",
   "execution_count": 3,
   "source": [
    "FILE_PATH = 'dataset.csv'"
   ],
   "outputs": [],
   "metadata": {
    "colab": {},
    "colab_type": "code",
    "id": "fQcdLL6m8gBn"
   }
  },
  {
   "cell_type": "markdown",
   "source": [
    "Removal of useless columns and records."
   ],
   "metadata": {
    "colab_type": "text",
    "id": "9YWSeVvI8gBt"
   }
  },
  {
   "cell_type": "code",
   "execution_count": 4,
   "source": [
    "df = pd.read_csv(FILE_PATH)\r\n",
    "df['detected_at'] = pd.to_datetime(df['detected_at'])\r\n",
    "\r\n",
    "USELESS_COLUMNS = ['id','raw_data_id','raw_data_setting_id','Seriale','created_at','DataUltimaRilevazione','DataUltimaTrasmissione','DataPrimaInstallazione','Indirizzo','Cap','UnitaTerritoriale','Viario','Tronco', 'Esterno', 'AreaGestionale']\r\n",
    "df.drop(USELESS_COLUMNS, axis=1, inplace=True)\r\n",
    "\r\n",
    "df.occluded.replace({1:False, 2:True}, inplace=True)\r\n",
    "df.fillna(value=False, inplace=True)\r\n",
    "df = df[df.TipoAnomalia == False]\r\n",
    "df.drop('TipoAnomalia', axis=1, inplace=True)\r\n",
    "df.rename(columns={'Latitudine': 'latitude', 'Longitudine':'longitude'}, inplace=True)\r\n",
    "\r\n",
    "df.set_index('detected_at', inplace=True, drop=True)\r\n",
    "df.sort_index(inplace=True)"
   ],
   "outputs": [
    {
     "output_type": "stream",
     "name": "stderr",
     "text": [
      "/usr/local/lib/python3.6/dist-packages/IPython/core/interactiveshell.py:2718: DtypeWarning: Columns (22) have mixed types. Specify dtype option on import or set low_memory=False.\n",
      "  interactivity=interactivity, compiler=compiler, result=result)\n"
     ]
    }
   ],
   "metadata": {
    "colab": {
     "base_uri": "https://localhost:8080/",
     "height": 51
    },
    "colab_type": "code",
    "executionInfo": {
     "elapsed": 10015,
     "status": "ok",
     "timestamp": 1583232294302,
     "user": {
      "displayName": "Gianluca Pagliara",
      "photoUrl": "https://lh3.googleusercontent.com/a-/AOh14GipTygSeqas8l1Ns-K8gi2dNU2gXVdabyAz-QxV-w=s64",
      "userId": "02779007521581184687"
     },
     "user_tz": -60
    },
    "id": "NNRjtPnK8gBu",
    "outputId": "ee68d565-4b7c-4d27-bdfd-8ecaecd9f223"
   }
  },
  {
   "cell_type": "markdown",
   "source": [
    "Remaining columns:"
   ],
   "metadata": {
    "colab_type": "text",
    "id": "BphBmOVf8gB0"
   }
  },
  {
   "cell_type": "code",
   "execution_count": 5,
   "source": [
    "print(df.columns.values[1:])"
   ],
   "outputs": [
    {
     "output_type": "stream",
     "name": "stdout",
     "text": [
      "['bin_serial' 'bin_level' 'occluded' 'latitude' 'longitude']\n"
     ]
    }
   ],
   "metadata": {
    "colab": {
     "base_uri": "https://localhost:8080/",
     "height": 34
    },
    "colab_type": "code",
    "executionInfo": {
     "elapsed": 10006,
     "status": "ok",
     "timestamp": 1583232294303,
     "user": {
      "displayName": "Gianluca Pagliara",
      "photoUrl": "https://lh3.googleusercontent.com/a-/AOh14GipTygSeqas8l1Ns-K8gi2dNU2gXVdabyAz-QxV-w=s64",
      "userId": "02779007521581184687"
     },
     "user_tz": -60
    },
    "id": "lVsA9cvA8gB1",
    "outputId": "9ecfb88d-81cf-43a7-b8be-ab0131c99899"
   }
  },
  {
   "cell_type": "markdown",
   "source": [
    "## Functions"
   ],
   "metadata": {
    "colab_type": "text",
    "id": "7QKLRONG8gB5"
   }
  },
  {
   "cell_type": "markdown",
   "source": [
    "Slender distance:"
   ],
   "metadata": {
    "colab_type": "text",
    "id": "0abRBAkK8gB6"
   }
  },
  {
   "cell_type": "code",
   "execution_count": 6,
   "source": [
    "from haversine import haversine\r\n",
    "import math\r\n",
    "\r\n",
    "def slender_distance(p1, p2, center, alpha_1=1, alpha_2=0):\r\n",
    "    ang_d = math.radians(get_angle(p1, p2, center))\r\n",
    "    radial_d = haversine(p1, p2)\r\n",
    "    return alpha_1*ang_d+alpha_2*radial_d\r\n",
    "\r\n",
    "def get_angle(a, b, origin):\r\n",
    "    ang = math.degrees(math.atan2(b[1]-origin[1], b[0]-origin[0]) - math.atan2(a[1]-origin[1], a[0]-origin[0]))\r\n",
    "    ang = abs(ang) if abs(ang) < 180 else 360-abs(ang)\r\n",
    "    return ang"
   ],
   "outputs": [],
   "metadata": {
    "colab": {},
    "colab_type": "code",
    "id": "soHIr_bl8gB7"
   }
  },
  {
   "cell_type": "markdown",
   "source": [
    "## Test"
   ],
   "metadata": {
    "colab_type": "text",
    "id": "vdJQon4R8gCB"
   }
  },
  {
   "cell_type": "markdown",
   "source": [
    "### Test configuration"
   ],
   "metadata": {
    "colab_type": "text",
    "id": "VcYkIImQ8gCC"
   }
  },
  {
   "cell_type": "code",
   "execution_count": 7,
   "source": [
    "def filter_function(data, level=3):\r\n",
    "    new_data = data.drop_duplicates(subset='bin_serial', keep='last')\r\n",
    "    new_data = new_data[(new_data.bin_level > level) | new_data.occluded]\r\n",
    "    return new_data"
   ],
   "outputs": [],
   "metadata": {
    "colab": {},
    "colab_type": "code",
    "id": "R5kSbH8V8gCD"
   }
  },
  {
   "cell_type": "code",
   "execution_count": 8,
   "source": [
    "import warnings\r\n",
    "warnings.filterwarnings('ignore')\r\n",
    "\r\n",
    "start_date = '2019-09-01 00:00:00'\r\n",
    "end_date = '2019-10-01 00:00:00'\r\n",
    "data = df[start_date : end_date]\r\n",
    "\r\n",
    "depot = (45.5069182, 9.2684501)\r\n",
    "vehicle_capacities = 200\r\n",
    "num_vehicles = 20"
   ],
   "outputs": [],
   "metadata": {
    "colab": {},
    "colab_type": "code",
    "id": "Xyiryxdb8gCF"
   }
  },
  {
   "cell_type": "code",
   "execution_count": 9,
   "source": [
    "def run_simulation(config, name):\r\n",
    "    simulation = Simulation(depot, config, window_size=6, max_size=200, filter_function=filter_function, filter_kwargs={})\r\n",
    "    routes = simulation.compute_simulation(data, pd.to_datetime(start_date), pd.to_datetime(end_date), speed=30, emp_time=60, debug=False)\r\n",
    "    simulation.to_csv(f'Output\\\\{name}.csv')\r\n",
    "    score = simulation.get_score()\r\n",
    "\r\n",
    "    print(f'# {name} #')\r\n",
    "    print(f'Numero di turni eseguiti: {str(len(routes))}.')\r\n",
    "    print(f'Distanza totale: {str(score)} km.')\r\n",
    "    total_bins = sum([len(routes[w][c]) for w in range(len(routes)) for c in range(len(routes[w]))])\r\n",
    "    print(f'Numero di cestini svuotati: {str(total_bins)}.')\r\n",
    "    total_vehs = sum([len(routes[w]) for w in range(len(routes))])\r\n",
    "    print(f'Numero di veicoli usati: {str(total_vehs)}.')"
   ],
   "outputs": [],
   "metadata": {
    "colab": {},
    "colab_type": "code",
    "id": "BOnnwbLF8gCI"
   }
  },
  {
   "cell_type": "markdown",
   "source": [
    "### Baseline: Standard k-Means + Christofides"
   ],
   "metadata": {
    "colab_type": "text",
    "id": "RXN3dGIU8gCL"
   }
  },
  {
   "cell_type": "code",
   "execution_count": 10,
   "source": [
    "kmeans_kwargs = {\r\n",
    "    'max_size' : 200,\r\n",
    "    'balanced': False,\r\n",
    "    'distance': lambda p1, p2 : slender_distance(p1, p2, depot, 0, 1),\r\n",
    "}\r\n",
    "\r\n",
    "routing_kwargs = {\r\n",
    "    'distance_function': haversine,\r\n",
    "    'vehicle_capacities': 200,\r\n",
    "    'num_vehicles': 1,\r\n",
    "}\r\n",
    "\r\n",
    "baseline_config = {\r\n",
    "  'cluster_class': AdjustedKMeans,\r\n",
    "  'cluster_kwargs': kmeans_kwargs,\r\n",
    "  'graph_class': GoogleRouting,\r\n",
    "  'graph_kwargs': routing_kwargs,\r\n",
    "}\r\n",
    "\r\n",
    "run_simulation(baseline_config, 'Baseline')"
   ],
   "outputs": [
    {
     "output_type": "stream",
     "name": "stdout",
     "text": [
      "# Baseline #\n",
      "Numero di turni eseguiti: 120.\n",
      "Distanza totale: 19222.724620000008 km.\n",
      "Numero di cestini svuotati: 130845.\n",
      "Numero di veicoli usati: 709.\n"
     ]
    }
   ],
   "metadata": {
    "colab": {
     "base_uri": "https://localhost:8080/",
     "height": 102
    },
    "colab_type": "code",
    "executionInfo": {
     "elapsed": 2950975,
     "status": "ok",
     "timestamp": 1583235235353,
     "user": {
      "displayName": "Gianluca Pagliara",
      "photoUrl": "https://lh3.googleusercontent.com/a-/AOh14GipTygSeqas8l1Ns-K8gi2dNU2gXVdabyAz-QxV-w=s64",
      "userId": "02779007521581184687"
     },
     "user_tz": -60
    },
    "id": "1AoEB5Up8gCM",
    "outputId": "e0cdbada-be35-434f-b6d8-4758c63b64bb"
   }
  },
  {
   "cell_type": "markdown",
   "source": [
    "### Google Routing"
   ],
   "metadata": {
    "colab_type": "text",
    "id": "s5Qny6-w8gCQ"
   }
  },
  {
   "cell_type": "code",
   "execution_count": 11,
   "source": [
    "GR_kwargs = {\r\n",
    "    'distance_function': haversine,\r\n",
    "    'vehicle_capacities': 200,\r\n",
    "    'num_vehicles': 20,\r\n",
    "}\r\n",
    "\r\n",
    "GR_config = {\r\n",
    "  'cluster_class': None,\r\n",
    "  'cluster_kwargs': {},\r\n",
    "  'graph_class': GoogleRouting,\r\n",
    "  'graph_kwargs': GR_kwargs,\r\n",
    "}\r\n",
    "\r\n",
    "run_simulation(GR_config, 'GoogleRouting')"
   ],
   "outputs": [
    {
     "output_type": "stream",
     "name": "stdout",
     "text": [
      "# GoogleRouting #\n",
      "Numero di turni eseguiti: 120.\n",
      "Distanza totale: 18661.584350000012 km.\n",
      "Numero di cestini svuotati: 130845.\n",
      "Numero di veicoli usati: 709.\n"
     ]
    }
   ],
   "metadata": {
    "colab": {
     "base_uri": "https://localhost:8080/",
     "height": 102
    },
    "colab_type": "code",
    "executionInfo": {
     "elapsed": 386,
     "status": "ok",
     "timestamp": 1583256272304,
     "user": {
      "displayName": "Gianluca Pagliara",
      "photoUrl": "https://lh3.googleusercontent.com/a-/AOh14GipTygSeqas8l1Ns-K8gi2dNU2gXVdabyAz-QxV-w=s64",
      "userId": "02779007521581184687"
     },
     "user_tz": -60
    },
    "id": "xeWi2cwu8gCR",
    "outputId": "d11abc0c-6a37-419a-d261-ea63ea66d796"
   }
  },
  {
   "cell_type": "markdown",
   "source": [
    "### SC2G - Shape-Controlled Clustering + Genetic algorithm"
   ],
   "metadata": {
    "colab_type": "text",
    "id": "O05jABMq8gCW"
   }
  },
  {
   "cell_type": "code",
   "execution_count": 12,
   "source": [
    "clustering_kwargs = {\r\n",
    "    'max_size' : 200,\r\n",
    "    'balanced': True,\r\n",
    "    'distance': lambda p1, p2 : slender_distance(p1, p2, depot, 1, 0),\r\n",
    "}\r\n",
    "\r\n",
    "# GA settings\r\n",
    "pop_size = 500\r\n",
    "elite_size = int(0.05*pop_size)\r\n",
    "mutation_rate = 0.1\r\n",
    "generations = 200\r\n",
    "\r\n",
    "GA_kwargs = {\r\n",
    "    'pop_size': pop_size,\r\n",
    "    'elite_size': elite_size, \r\n",
    "    'mutation_rate': mutation_rate,\r\n",
    "    'generations': generations,\r\n",
    "    'metric': 'km',\r\n",
    "}\r\n",
    "\r\n",
    "SC2G_config = {\r\n",
    "  'cluster_class': AdjustedKMeans,\r\n",
    "  'cluster_kwargs': clustering_kwargs,\r\n",
    "  'graph_class': GAGraph,\r\n",
    "  'graph_kwargs': GA_kwargs,\r\n",
    "}\r\n",
    "\r\n",
    "run_simulation(SC2G_config, 'SC2G')"
   ],
   "outputs": [
    {
     "output_type": "stream",
     "name": "stdout",
     "text": [
      "# SC2G #\n",
      "Numero di turni eseguiti: 120.\n",
      "Distanza totale: 18706.83744 km.\n",
      "Numero di cestini svuotati: 130845.\n",
      "Numero di veicoli usati: 709.\n"
     ]
    }
   ],
   "metadata": {
    "colab": {
     "base_uri": "https://localhost:8080/",
     "height": 102
    },
    "colab_type": "code",
    "executionInfo": {
     "elapsed": 6984378,
     "status": "ok",
     "timestamp": 1583263256676,
     "user": {
      "displayName": "Gianluca Pagliara",
      "photoUrl": "https://lh3.googleusercontent.com/a-/AOh14GipTygSeqas8l1Ns-K8gi2dNU2gXVdabyAz-QxV-w=s64",
      "userId": "02779007521581184687"
     },
     "user_tz": -60
    },
    "id": "PVRzVmjf8gCX",
    "outputId": "fe9756ef-c0a4-49db-ec21-0fbadf0afa02"
   }
  },
  {
   "cell_type": "markdown",
   "source": [
    "### SC3 balanced"
   ],
   "metadata": {
    "colab_type": "text",
    "id": "9-6kGm908gCk"
   }
  },
  {
   "cell_type": "code",
   "execution_count": 13,
   "source": [
    "clustering_balanced = {\r\n",
    "    'max_size' : 200,\r\n",
    "    'balanced': True,\r\n",
    "    'distance': lambda p1, p2 : slender_distance(p1, p2, depot, 1, 0),\r\n",
    "}\r\n",
    "\r\n",
    "routing_kwargs = {\r\n",
    "    'distance_function': haversine,\r\n",
    "    'vehicle_capacities': 200,\r\n",
    "    'num_vehicles': 1,\r\n",
    "}\r\n",
    "\r\n",
    "SC3_balanced_config = {\r\n",
    "  'cluster_class': AdjustedKMeans,\r\n",
    "  'cluster_kwargs': clustering_kwargs,\r\n",
    "  'graph_class': GoogleRouting,\r\n",
    "  'graph_kwargs': routing_kwargs,\r\n",
    "}\r\n",
    "\r\n",
    "run_simulation(SC3_balanced_config, 'SC3Balanced')"
   ],
   "outputs": [
    {
     "output_type": "stream",
     "name": "stdout",
     "text": [
      "# SC3Balanced #\n",
      "Numero di turni eseguiti: 120.\n",
      "Distanza totale: 17790.80992 km.\n",
      "Numero di cestini svuotati: 130845.\n",
      "Numero di veicoli usati: 709.\n"
     ]
    }
   ],
   "metadata": {
    "colab": {
     "base_uri": "https://localhost:8080/",
     "height": 102
    },
    "colab_type": "code",
    "executionInfo": {
     "elapsed": 1606020,
     "status": "ok",
     "timestamp": 1583264862685,
     "user": {
      "displayName": "Gianluca Pagliara",
      "photoUrl": "https://lh3.googleusercontent.com/a-/AOh14GipTygSeqas8l1Ns-K8gi2dNU2gXVdabyAz-QxV-w=s64",
      "userId": "02779007521581184687"
     },
     "user_tz": -60
    },
    "id": "g1t7Xofm8gCl",
    "outputId": "0d612cc9-b54d-4a47-d5b4-65e047295f32"
   }
  }
 ],
 "metadata": {
  "colab": {
   "collapsed_sections": [],
   "name": "Confronto soluzioni alternative.ipynb",
   "provenance": []
  },
  "kernelspec": {
   "display_name": "Python 3",
   "language": "python",
   "name": "python3"
  },
  "language_info": {
   "codemirror_mode": {
    "name": "ipython",
    "version": 3
   },
   "file_extension": ".py",
   "mimetype": "text/x-python",
   "name": "python",
   "nbconvert_exporter": "python",
   "pygments_lexer": "ipython3",
   "version": "3.7.4"
  }
 },
 "nbformat": 4,
 "nbformat_minor": 4
}