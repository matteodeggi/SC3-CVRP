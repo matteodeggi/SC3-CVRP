{
 "cells": [
  {
   "cell_type": "markdown",
   "metadata": {
    "colab_type": "text",
    "id": "6zQVhQqP8gBW"
   },
   "source": [
    "# Soluzioni alternative"
   ]
  },
  {
   "cell_type": "markdown",
   "metadata": {
    "colab_type": "text",
    "id": "lAyx4Wfr8gBZ"
   },
   "source": [
    "In questo notebook si effettua il confronto fra le varie soluzioni che sono state sperimentate prima di concludere che l'SC3 fosse il migliore."
   ]
  },
  {
   "cell_type": "markdown",
   "metadata": {
    "colab_type": "text",
    "id": "Cbqt2Xc88gBa"
   },
   "source": [
    "## Installazione e import delle dipendenze"
   ]
  },
  {
   "cell_type": "code",
   "execution_count": 1,
   "metadata": {
    "colab": {
     "base_uri": "https://localhost:8080/",
     "height": 187
    },
    "colab_type": "code",
    "executionInfo": {
     "elapsed": 5542,
     "status": "ok",
     "timestamp": 1583232289794,
     "user": {
      "displayName": "Gianluca Pagliara",
      "photoUrl": "https://lh3.googleusercontent.com/a-/AOh14GipTygSeqas8l1Ns-K8gi2dNU2gXVdabyAz-QxV-w=s64",
      "userId": "02779007521581184687"
     },
     "user_tz": -60
    },
    "id": "AiIzZYzQ8gBf",
    "outputId": "4c8af87a-c1a1-4add-b8ec-30bb3f9efbc1"
   },
   "outputs": [
    {
     "name": "stdout",
     "output_type": "stream",
     "text": [
      "Requirement already satisfied: haversine in /usr/local/lib/python3.6/dist-packages (2.2.0)\n",
      "Requirement already satisfied: ortools in /usr/local/lib/python3.6/dist-packages (7.5.7466)\n",
      "Requirement already satisfied: pulp in /usr/local/lib/python3.6/dist-packages (2.0)\n",
      "Requirement already satisfied: numba in /usr/local/lib/python3.6/dist-packages (0.47.0)\n",
      "Requirement already satisfied: protobuf>=3.11.2 in /usr/local/lib/python3.6/dist-packages (from ortools) (3.11.3)\n",
      "Requirement already satisfied: six>=1.10 in /usr/local/lib/python3.6/dist-packages (from ortools) (1.12.0)\n",
      "Requirement already satisfied: pyparsing>=2.0.1 in /usr/local/lib/python3.6/dist-packages (from pulp) (2.4.6)\n",
      "Requirement already satisfied: llvmlite>=0.31.0dev0 in /usr/local/lib/python3.6/dist-packages (from numba) (0.31.0)\n",
      "Requirement already satisfied: setuptools in /usr/local/lib/python3.6/dist-packages (from numba) (45.1.0)\n",
      "Requirement already satisfied: numpy in /usr/local/lib/python3.6/dist-packages (from numba) (1.17.5)\n"
     ]
    }
   ],
   "source": [
    "!pip install haversine ortools pulp numba"
   ]
  },
  {
   "cell_type": "code",
   "execution_count": 2,
   "metadata": {
    "colab": {},
    "colab_type": "code",
    "id": "L_dsaRBY8gBj"
   },
   "outputs": [],
   "source": [
    "import pandas as pd\n",
    "from Simulation import Simulation\n",
    "from GeneticAlgorithmGraph import GeneticAlgorithmGraph as GAGraph\n",
    "from GoogleRouting import GoogleRouting\n",
    "from AdjustedKMeans import AdjustedKMeans"
   ]
  },
  {
   "cell_type": "markdown",
   "metadata": {
    "colab_type": "text",
    "id": "dkwIwIv68gBn"
   },
   "source": [
    "## Caricamento e pulizia dei dati"
   ]
  },
  {
   "cell_type": "code",
   "execution_count": 3,
   "metadata": {
    "colab": {},
    "colab_type": "code",
    "id": "fQcdLL6m8gBn"
   },
   "outputs": [],
   "source": [
    "FILE_PATH = 'dataset.csv'"
   ]
  },
  {
   "cell_type": "markdown",
   "metadata": {
    "colab_type": "text",
    "id": "9YWSeVvI8gBt"
   },
   "source": [
    "Rimozione delle colonne inutili e dei record non significativi."
   ]
  },
  {
   "cell_type": "code",
   "execution_count": 4,
   "metadata": {
    "colab": {
     "base_uri": "https://localhost:8080/",
     "height": 51
    },
    "colab_type": "code",
    "executionInfo": {
     "elapsed": 10015,
     "status": "ok",
     "timestamp": 1583232294302,
     "user": {
      "displayName": "Gianluca Pagliara",
      "photoUrl": "https://lh3.googleusercontent.com/a-/AOh14GipTygSeqas8l1Ns-K8gi2dNU2gXVdabyAz-QxV-w=s64",
      "userId": "02779007521581184687"
     },
     "user_tz": -60
    },
    "id": "NNRjtPnK8gBu",
    "outputId": "ee68d565-4b7c-4d27-bdfd-8ecaecd9f223"
   },
   "outputs": [
    {
     "name": "stderr",
     "output_type": "stream",
     "text": [
      "/usr/local/lib/python3.6/dist-packages/IPython/core/interactiveshell.py:2718: DtypeWarning: Columns (22) have mixed types. Specify dtype option on import or set low_memory=False.\n",
      "  interactivity=interactivity, compiler=compiler, result=result)\n"
     ]
    }
   ],
   "source": [
    "df = pd.read_csv(FILE_PATH)\n",
    "df['detected_at'] = pd.to_datetime(df['detected_at'])\n",
    "\n",
    "USELESS_COLUMNS = ['id','raw_data_id','raw_data_setting_id','Seriale','created_at','DataUltimaRilevazione','DataUltimaTrasmissione','DataPrimaInstallazione','Indirizzo','Cap','UnitaTerritoriale','Viario','Tronco', 'Esterno', 'AreaGestionale']\n",
    "df.drop(USELESS_COLUMNS, axis=1, inplace=True)\n",
    "\n",
    "df.occluded.replace({1:False, 2:True}, inplace=True)\n",
    "df.fillna(value=False, inplace=True)\n",
    "df = df[df.TipoAnomalia == False]\n",
    "df.drop('TipoAnomalia', axis=1, inplace=True)\n",
    "df.rename(columns={'Latitudine': 'latitude', 'Longitudine':'longitude'}, inplace=True)\n",
    "\n",
    "df.set_index('detected_at', inplace=True, drop=True)\n",
    "df.sort_index(inplace=True)"
   ]
  },
  {
   "cell_type": "markdown",
   "metadata": {
    "colab_type": "text",
    "id": "BphBmOVf8gB0"
   },
   "source": [
    "Colonne rimanenti:"
   ]
  },
  {
   "cell_type": "code",
   "execution_count": 5,
   "metadata": {
    "colab": {
     "base_uri": "https://localhost:8080/",
     "height": 34
    },
    "colab_type": "code",
    "executionInfo": {
     "elapsed": 10006,
     "status": "ok",
     "timestamp": 1583232294303,
     "user": {
      "displayName": "Gianluca Pagliara",
      "photoUrl": "https://lh3.googleusercontent.com/a-/AOh14GipTygSeqas8l1Ns-K8gi2dNU2gXVdabyAz-QxV-w=s64",
      "userId": "02779007521581184687"
     },
     "user_tz": -60
    },
    "id": "lVsA9cvA8gB1",
    "outputId": "9ecfb88d-81cf-43a7-b8be-ab0131c99899"
   },
   "outputs": [
    {
     "name": "stdout",
     "output_type": "stream",
     "text": [
      "['bin_serial' 'bin_level' 'occluded' 'latitude' 'longitude']\n"
     ]
    }
   ],
   "source": [
    "print(df.columns.values[1:])"
   ]
  },
  {
   "cell_type": "markdown",
   "metadata": {
    "colab_type": "text",
    "id": "7QKLRONG8gB5"
   },
   "source": [
    "## Funzioni utili"
   ]
  },
  {
   "cell_type": "markdown",
   "metadata": {
    "colab_type": "text",
    "id": "0abRBAkK8gB6"
   },
   "source": [
    "Slender distance:"
   ]
  },
  {
   "cell_type": "code",
   "execution_count": 6,
   "metadata": {
    "colab": {},
    "colab_type": "code",
    "id": "soHIr_bl8gB7"
   },
   "outputs": [],
   "source": [
    "from haversine import haversine\n",
    "import math\n",
    "\n",
    "def slender_distance(p1, p2, center, alpha_1=1, alpha_2=0):\n",
    "    ang_d = math.radians(get_angle(p1, p2, center))\n",
    "    radial_d = haversine(p1, p2)\n",
    "    return alpha_1*ang_d+alpha_2*radial_d\n",
    "\n",
    "def get_angle(a, b, origin):\n",
    "    ang = math.degrees(math.atan2(b[1]-origin[1], b[0]-origin[0]) - math.atan2(a[1]-origin[1], a[0]-origin[0]))\n",
    "    ang = abs(ang) if abs(ang) < 180 else 360-abs(ang)\n",
    "    return ang"
   ]
  },
  {
   "cell_type": "markdown",
   "metadata": {
    "colab_type": "text",
    "id": "DOOpwHJI8gB_"
   },
   "source": [
    "Funzione per ricavare gli orari di svuotamento di ogni cestino per un turno."
   ]
  },
  {
   "cell_type": "markdown",
   "metadata": {
    "colab_type": "text",
    "id": "vdJQon4R8gCB"
   },
   "source": [
    "## Test"
   ]
  },
  {
   "cell_type": "markdown",
   "metadata": {
    "colab_type": "text",
    "id": "VcYkIImQ8gCC"
   },
   "source": [
    "### Configurazione dei test"
   ]
  },
  {
   "cell_type": "code",
   "execution_count": 7,
   "metadata": {
    "colab": {},
    "colab_type": "code",
    "id": "R5kSbH8V8gCD"
   },
   "outputs": [],
   "source": [
    "def filter_function(data, level=3):\n",
    "    new_data = data.drop_duplicates(subset='bin_serial', keep='last')\n",
    "    new_data = new_data[(new_data.bin_level > level) | new_data.occluded]\n",
    "    return new_data"
   ]
  },
  {
   "cell_type": "code",
   "execution_count": 8,
   "metadata": {
    "colab": {},
    "colab_type": "code",
    "id": "Xyiryxdb8gCF"
   },
   "outputs": [],
   "source": [
    "import warnings\n",
    "warnings.filterwarnings('ignore')\n",
    "\n",
    "start_date = '2019-09-01 00:00:00'\n",
    "end_date = '2019-10-01 00:00:00'\n",
    "data = df[start_date : end_date]\n",
    "\n",
    "depot = (45.5069182, 9.2684501)\n",
    "vehicle_capacities = 200\n",
    "num_vehicles = 20"
   ]
  },
  {
   "cell_type": "code",
   "execution_count": 9,
   "metadata": {
    "colab": {},
    "colab_type": "code",
    "id": "BOnnwbLF8gCI"
   },
   "outputs": [],
   "source": [
    "def run_simulation(config, name):\n",
    "    simulation = Simulation(depot, config, window_size=6, max_size=200, filter_function=filter_function, filter_kwargs={})\n",
    "    routes = simulation.compute_simulation(data, pd.to_datetime(start_date), pd.to_datetime(end_date), speed=30, emp_time=60, debug=False)\n",
    "    simulation.to_csv(f'Output\\\\{name}.csv')\n",
    "    score = simulation.get_score()\n",
    "\n",
    "    print(f'# {name} #')\n",
    "    print(f'Numero di turni eseguiti: {str(len(routes))}.')\n",
    "    print(f'Distanza totale: {str(score)} km.')\n",
    "    total_bins = sum([len(routes[w][c]) for w in range(len(routes)) for c in range(len(routes[w]))])\n",
    "    print(f'Numero di cestini svuotati: {str(total_bins)}.')\n",
    "    total_vehs = sum([len(routes[w]) for w in range(len(routes))])\n",
    "    print(f'Numero di veicoli usati: {str(total_vehs)}.')"
   ]
  },
  {
   "cell_type": "markdown",
   "metadata": {
    "colab_type": "text",
    "id": "RXN3dGIU8gCL"
   },
   "source": [
    "### Baseline: Standard k-Means + Christofides"
   ]
  },
  {
   "cell_type": "code",
   "execution_count": 10,
   "metadata": {
    "colab": {
     "base_uri": "https://localhost:8080/",
     "height": 102
    },
    "colab_type": "code",
    "executionInfo": {
     "elapsed": 2950975,
     "status": "ok",
     "timestamp": 1583235235353,
     "user": {
      "displayName": "Gianluca Pagliara",
      "photoUrl": "https://lh3.googleusercontent.com/a-/AOh14GipTygSeqas8l1Ns-K8gi2dNU2gXVdabyAz-QxV-w=s64",
      "userId": "02779007521581184687"
     },
     "user_tz": -60
    },
    "id": "1AoEB5Up8gCM",
    "outputId": "e0cdbada-be35-434f-b6d8-4758c63b64bb"
   },
   "outputs": [
    {
     "name": "stdout",
     "output_type": "stream",
     "text": [
      "# Baseline #\n",
      "Numero di turni eseguiti: 120.\n",
      "Distanza totale: 19222.724620000008 km.\n",
      "Numero di cestini svuotati: 130845.\n",
      "Numero di veicoli usati: 709.\n"
     ]
    }
   ],
   "source": [
    "kmeans_kwargs = {\n",
    "    'max_size' : 200,\n",
    "    'balanced': False,\n",
    "    'distance': lambda p1, p2 : slender_distance(p1, p2, depot, 0, 1),\n",
    "}\n",
    "\n",
    "routing_kwargs = {\n",
    "    'distance_function': haversine,\n",
    "    'vehicle_capacities': 200,\n",
    "    'num_vehicles': 1,\n",
    "}\n",
    "\n",
    "baseline_config = {\n",
    "  'cluster_class': AdjustedKMeans,\n",
    "  'cluster_kwargs': kmeans_kwargs,\n",
    "  'graph_class': GoogleRouting,\n",
    "  'graph_kwargs': routing_kwargs,\n",
    "}\n",
    "\n",
    "run_simulation(baseline_config, 'Baseline')"
   ]
  },
  {
   "cell_type": "markdown",
   "metadata": {
    "colab_type": "text",
    "id": "s5Qny6-w8gCQ"
   },
   "source": [
    "### Google Routing"
   ]
  },
  {
   "cell_type": "code",
   "execution_count": 11,
   "metadata": {
    "colab": {
     "base_uri": "https://localhost:8080/",
     "height": 102
    },
    "colab_type": "code",
    "executionInfo": {
     "elapsed": 386,
     "status": "ok",
     "timestamp": 1583256272304,
     "user": {
      "displayName": "Gianluca Pagliara",
      "photoUrl": "https://lh3.googleusercontent.com/a-/AOh14GipTygSeqas8l1Ns-K8gi2dNU2gXVdabyAz-QxV-w=s64",
      "userId": "02779007521581184687"
     },
     "user_tz": -60
    },
    "id": "xeWi2cwu8gCR",
    "outputId": "d11abc0c-6a37-419a-d261-ea63ea66d796"
   },
   "outputs": [
    {
     "name": "stdout",
     "output_type": "stream",
     "text": [
      "# GoogleRouting #\n",
      "Numero di turni eseguiti: 120.\n",
      "Distanza totale: 18661.584350000012 km.\n",
      "Numero di cestini svuotati: 130845.\n",
      "Numero di veicoli usati: 709.\n"
     ]
    }
   ],
   "source": [
    "GR_kwargs = {\n",
    "    'distance_function': haversine,\n",
    "    'vehicle_capacities': 200,\n",
    "    'num_vehicles': 20,\n",
    "}\n",
    "\n",
    "GR_config = {\n",
    "  'cluster_class': None,\n",
    "  'cluster_kwargs': {},\n",
    "  'graph_class': GoogleRouting,\n",
    "  'graph_kwargs': GR_kwargs,\n",
    "}\n",
    "\n",
    "run_simulation(GR_config, 'GoogleRouting')"
   ]
  },
  {
   "cell_type": "markdown",
   "metadata": {
    "colab_type": "text",
    "id": "O05jABMq8gCW"
   },
   "source": [
    "### SC2G - Shape-Controlled Clustering + Genetic algorithm"
   ]
  },
  {
   "cell_type": "code",
   "execution_count": 12,
   "metadata": {
    "colab": {
     "base_uri": "https://localhost:8080/",
     "height": 102
    },
    "colab_type": "code",
    "executionInfo": {
     "elapsed": 6984378,
     "status": "ok",
     "timestamp": 1583263256676,
     "user": {
      "displayName": "Gianluca Pagliara",
      "photoUrl": "https://lh3.googleusercontent.com/a-/AOh14GipTygSeqas8l1Ns-K8gi2dNU2gXVdabyAz-QxV-w=s64",
      "userId": "02779007521581184687"
     },
     "user_tz": -60
    },
    "id": "PVRzVmjf8gCX",
    "outputId": "fe9756ef-c0a4-49db-ec21-0fbadf0afa02"
   },
   "outputs": [
    {
     "name": "stdout",
     "output_type": "stream",
     "text": [
      "# SC2G #\n",
      "Numero di turni eseguiti: 120.\n",
      "Distanza totale: 18706.83744 km.\n",
      "Numero di cestini svuotati: 130845.\n",
      "Numero di veicoli usati: 709.\n"
     ]
    }
   ],
   "source": [
    "clustering_kwargs = {\n",
    "    'max_size' : 200,\n",
    "    'balanced': True,\n",
    "    'distance': lambda p1, p2 : slender_distance(p1, p2, depot, 1, 0),\n",
    "}\n",
    "\n",
    "# GA settings\n",
    "pop_size = 500\n",
    "elite_size = int(0.05*pop_size)\n",
    "mutation_rate = 0.1\n",
    "generations = 200\n",
    "\n",
    "GA_kwargs = {\n",
    "    'pop_size': pop_size,\n",
    "    'elite_size': elite_size, \n",
    "    'mutation_rate': mutation_rate,\n",
    "    'generations': generations,\n",
    "    'metric': 'km',\n",
    "}\n",
    "\n",
    "SC2G_config = {\n",
    "  'cluster_class': AdjustedKMeans,\n",
    "  'cluster_kwargs': clustering_kwargs,\n",
    "  'graph_class': GAGraph,\n",
    "  'graph_kwargs': GA_kwargs,\n",
    "}\n",
    "\n",
    "run_simulation(SC2G_config, 'SC2G')"
   ]
  },
  {
   "cell_type": "markdown",
   "metadata": {
    "colab_type": "text",
    "id": "9-6kGm908gCk"
   },
   "source": [
    "### SC3 bilanciato"
   ]
  },
  {
   "cell_type": "code",
   "execution_count": 13,
   "metadata": {
    "colab": {
     "base_uri": "https://localhost:8080/",
     "height": 102
    },
    "colab_type": "code",
    "executionInfo": {
     "elapsed": 1606020,
     "status": "ok",
     "timestamp": 1583264862685,
     "user": {
      "displayName": "Gianluca Pagliara",
      "photoUrl": "https://lh3.googleusercontent.com/a-/AOh14GipTygSeqas8l1Ns-K8gi2dNU2gXVdabyAz-QxV-w=s64",
      "userId": "02779007521581184687"
     },
     "user_tz": -60
    },
    "id": "g1t7Xofm8gCl",
    "outputId": "0d612cc9-b54d-4a47-d5b4-65e047295f32"
   },
   "outputs": [
    {
     "name": "stdout",
     "output_type": "stream",
     "text": [
      "# SC3Balanced #\n",
      "Numero di turni eseguiti: 120.\n",
      "Distanza totale: 17790.80992 km.\n",
      "Numero di cestini svuotati: 130845.\n",
      "Numero di veicoli usati: 709.\n"
     ]
    }
   ],
   "source": [
    "clustering_balanced = {\n",
    "    'max_size' : 200,\n",
    "    'balanced': True,\n",
    "    'distance': lambda p1, p2 : slender_distance(p1, p2, depot, 1, 0),\n",
    "}\n",
    "\n",
    "routing_kwargs = {\n",
    "    'distance_function': haversine,\n",
    "    'vehicle_capacities': 200,\n",
    "    'num_vehicles': 1,\n",
    "}\n",
    "\n",
    "SC3_balanced_config = {\n",
    "  'cluster_class': AdjustedKMeans,\n",
    "  'cluster_kwargs': clustering_kwargs,\n",
    "  'graph_class': GoogleRouting,\n",
    "  'graph_kwargs': routing_kwargs,\n",
    "}\n",
    "\n",
    "run_simulation(SC3_balanced_config, 'SC3Balanced')"
   ]
  }
 ],
 "metadata": {
  "colab": {
   "collapsed_sections": [],
   "name": "Confronto soluzioni alternative.ipynb",
   "provenance": []
  },
  "kernelspec": {
   "display_name": "Python 3",
   "language": "python",
   "name": "python3"
  },
  "language_info": {
   "codemirror_mode": {
    "name": "ipython",
    "version": 3
   },
   "file_extension": ".py",
   "mimetype": "text/x-python",
   "name": "python",
   "nbconvert_exporter": "python",
   "pygments_lexer": "ipython3",
   "version": "3.7.4"
  }
 },
 "nbformat": 4,
 "nbformat_minor": 4
}
