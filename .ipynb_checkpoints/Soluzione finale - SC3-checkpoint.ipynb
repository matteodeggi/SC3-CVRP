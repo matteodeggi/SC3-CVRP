{
 "cells": [
  {
   "cell_type": "markdown",
   "metadata": {
    "colab_type": "text",
    "id": "7EIr7v7MlqVK"
   },
   "source": [
    "# SC3 - Shape-Controlled Clustering and Christofides algorithm"
   ]
  },
  {
   "cell_type": "markdown",
   "metadata": {
    "colab_type": "text",
    "id": "iemC0yZ2lqVP"
   },
   "source": [
    "Esempio di esecuzione e test dell'algoritmo scelto come soluzione finale: SC3."
   ]
  },
  {
   "cell_type": "markdown",
   "metadata": {
    "colab_type": "text",
    "id": "-27LekL_lqVR"
   },
   "source": [
    "## Installazione e import delle dipendenze"
   ]
  },
  {
   "cell_type": "code",
   "execution_count": 1,
   "metadata": {
    "colab": {},
    "colab_type": "code",
    "id": "GBA96obklqVX",
    "outputId": "d3112628-0989-4b52-e53f-6ae720dca161"
   },
   "outputs": [
    {
     "name": "stdout",
     "output_type": "stream",
     "text": [
      "Requirement already satisfied: haversine in c:\\users\\giang\\anaconda3\\envs\\ox\\lib\\site-packages (2.2.0)\n",
      "Requirement already satisfied: ortools in c:\\users\\giang\\anaconda3\\envs\\ox\\lib\\site-packages (7.5.7466)\n",
      "Requirement already satisfied: pulp in c:\\users\\giang\\anaconda3\\envs\\ox\\lib\\site-packages (2.0)\n",
      "Requirement already satisfied: numba in c:\\users\\giang\\anaconda3\\envs\\ox\\lib\\site-packages (0.48.0)\n",
      "Requirement already satisfied: protobuf>=3.11.2 in c:\\users\\giang\\anaconda3\\envs\\ox\\lib\\site-packages (from ortools) (3.11.3)\n",
      "Requirement already satisfied: six>=1.10 in c:\\users\\giang\\anaconda3\\envs\\ox\\lib\\site-packages (from ortools) (1.14.0)\n",
      "Requirement already satisfied: pyparsing>=2.0.1 in c:\\users\\giang\\anaconda3\\envs\\ox\\lib\\site-packages (from pulp) (2.4.6)\n",
      "Requirement already satisfied: numpy>=1.15 in c:\\users\\giang\\anaconda3\\envs\\ox\\lib\\site-packages (from numba) (1.18.1)\n",
      "Requirement already satisfied: llvmlite<0.32.0,>=0.31.0dev0 in c:\\users\\giang\\anaconda3\\envs\\ox\\lib\\site-packages (from numba) (0.31.0)\n",
      "Requirement already satisfied: setuptools in c:\\users\\giang\\anaconda3\\envs\\ox\\lib\\site-packages (from numba) (45.2.0.post20200209)\n"
     ]
    }
   ],
   "source": [
    "!pip install haversine ortools pulp numba"
   ]
  },
  {
   "cell_type": "code",
   "execution_count": 2,
   "metadata": {
    "colab": {},
    "colab_type": "code",
    "id": "EZSlZGzElqVd"
   },
   "outputs": [],
   "source": [
    "import pandas as pd\n",
    "from haversine import haversine\n",
    "from Simulation import Simulation\n",
    "from GoogleRouting import GoogleRouting\n",
    "from AdjustedKMeans import AdjustedKMeans\n",
    "\n",
    "import warnings\n",
    "warnings.filterwarnings('ignore')"
   ]
  },
  {
   "cell_type": "markdown",
   "metadata": {
    "colab_type": "text",
    "id": "11z7vQ1llqVh"
   },
   "source": [
    "## Caricamento e pulizia dei dati"
   ]
  },
  {
   "cell_type": "code",
   "execution_count": 3,
   "metadata": {
    "colab": {},
    "colab_type": "code",
    "id": "VPwzwZNolqVi"
   },
   "outputs": [],
   "source": [
    "FILE_PATH = 'dataset.csv'"
   ]
  },
  {
   "cell_type": "markdown",
   "metadata": {
    "colab_type": "text",
    "id": "H2whxMHelqVl"
   },
   "source": [
    "Rimozione delle colonne inutili e dei record non significativi."
   ]
  },
  {
   "cell_type": "code",
   "execution_count": 4,
   "metadata": {
    "colab": {},
    "colab_type": "code",
    "id": "6h8ZgArhlqVm"
   },
   "outputs": [],
   "source": [
    "df = pd.read_csv(FILE_PATH)\n",
    "df['detected_at'] = pd.to_datetime(df['detected_at'])\n",
    "\n",
    "USELESS_COLUMNS = ['id','raw_data_id','raw_data_setting_id','Seriale','created_at','DataUltimaRilevazione','DataUltimaTrasmissione','DataPrimaInstallazione','Indirizzo','Cap','UnitaTerritoriale','Viario','Tronco', 'Esterno', 'AreaGestionale']\n",
    "df.drop(USELESS_COLUMNS, axis=1, inplace=True)\n",
    "\n",
    "df.occluded.replace({1:False, 2:True}, inplace=True)\n",
    "df.fillna(value=False, inplace=True)\n",
    "df = df[df.TipoAnomalia == False]\n",
    "df.drop('TipoAnomalia', axis=1, inplace=True)\n",
    "df.rename(columns={'Latitudine': 'latitude', 'Longitudine':'longitude'}, inplace=True)\n",
    "\n",
    "df.set_index('detected_at', inplace=True, drop=True)\n",
    "df.sort_index(inplace=True)"
   ]
  },
  {
   "cell_type": "markdown",
   "metadata": {
    "colab_type": "text",
    "id": "071vK0lulqVt"
   },
   "source": [
    "Colonne rimanenti:"
   ]
  },
  {
   "cell_type": "code",
   "execution_count": 5,
   "metadata": {
    "colab": {},
    "colab_type": "code",
    "id": "nuxlmWeglqVu",
    "outputId": "3cae87e9-499c-432e-caf5-92af3706198a"
   },
   "outputs": [
    {
     "name": "stdout",
     "output_type": "stream",
     "text": [
      "['bin_serial' 'bin_level' 'occluded' 'latitude' 'longitude']\n"
     ]
    }
   ],
   "source": [
    "print(df.columns.values[1:])"
   ]
  },
  {
   "cell_type": "markdown",
   "metadata": {
    "colab_type": "text",
    "id": "Ueop1VnjlqVx"
   },
   "source": [
    "## Funzioni utili"
   ]
  },
  {
   "cell_type": "markdown",
   "metadata": {
    "colab_type": "text",
    "id": "Bzjx7h6PlqVy"
   },
   "source": [
    "Slender distance:"
   ]
  },
  {
   "cell_type": "code",
   "execution_count": 6,
   "metadata": {
    "colab": {},
    "colab_type": "code",
    "id": "wBFs5e08lqVz"
   },
   "outputs": [],
   "source": [
    "from haversine import haversine\n",
    "import math\n",
    "\n",
    "def slender_distance(p1, p2, center, alpha_1=1, alpha_2=0):\n",
    "    ang_d = math.radians(get_angle(p1, p2, center))\n",
    "    radial_d = haversine(p1, p2)\n",
    "    return alpha_1*ang_d+alpha_2*radial_d\n",
    "\n",
    "def get_angle(a, b, origin):\n",
    "    ang = math.degrees(math.atan2(b[1]-origin[1], b[0]-origin[0]) - math.atan2(a[1]-origin[1], a[0]-origin[0]))\n",
    "    ang = abs(ang) if abs(ang) < 180 else 360-abs(ang)\n",
    "    return ang"
   ]
  },
  {
   "cell_type": "markdown",
   "metadata": {
    "colab_type": "text",
    "id": "IjgnBIIwlqV8"
   },
   "source": [
    "# Configurazioni dei test"
   ]
  },
  {
   "cell_type": "markdown",
   "metadata": {
    "colab_type": "text",
    "id": "lSTBHNtLlqV9"
   },
   "source": [
    "Impostazione dei parametri per l'algoritmo di clustering.\n",
    "\n",
    "Attraverso *balanced* si può decidere se rendere bilanciati i percorsi in termini di numero di cestini.\n",
    "\n",
    "*distance* è la funzione usata per la creazione dei cluster. Viene usata la slender distance e, in questo caso, *alpha*=1 e *beta*=0 rappresentano la miglior combinazione di parametri."
   ]
  },
  {
   "cell_type": "code",
   "execution_count": 7,
   "metadata": {
    "colab": {},
    "colab_type": "code",
    "id": "mumId8dIlqV-"
   },
   "outputs": [],
   "source": [
    "clustering_kwargs = {\n",
    "    'max_size' : 200,\n",
    "    'balanced': False,\n",
    "    'distance': lambda p1, p2 : slender_distance(p1, p2, depot, 1, 0),\n",
    "}"
   ]
  },
  {
   "cell_type": "markdown",
   "metadata": {
    "colab_type": "text",
    "id": "8sqMjyF4lqWB"
   },
   "source": [
    "Parametri del routing. Il numero di veicoli è impostato ad uno poiché l'algoritmo di routing verrà chiamato per ogni cluster."
   ]
  },
  {
   "cell_type": "code",
   "execution_count": 8,
   "metadata": {
    "colab": {},
    "colab_type": "code",
    "id": "dlquh99ilqWC"
   },
   "outputs": [],
   "source": [
    "from haversine import haversine\n",
    "\n",
    "routing_kwargs = {\n",
    "    'distance_function': haversine,\n",
    "    'vehicle_capacities': 200,\n",
    "    'num_vehicles': 1,\n",
    "}"
   ]
  },
  {
   "cell_type": "markdown",
   "metadata": {
    "colab_type": "text",
    "id": "SSWg8H50lqWH"
   },
   "source": [
    "Configurazione finale che verrà usata per la simulazione."
   ]
  },
  {
   "cell_type": "code",
   "execution_count": 9,
   "metadata": {
    "colab": {},
    "colab_type": "code",
    "id": "El804vlBlqWI"
   },
   "outputs": [],
   "source": [
    "SC3_config = {\n",
    "  'cluster_class': AdjustedKMeans,\n",
    "  'cluster_kwargs': clustering_kwargs,\n",
    "  'graph_class': GoogleRouting,\n",
    "  'graph_kwargs': routing_kwargs,\n",
    "}"
   ]
  },
  {
   "cell_type": "markdown",
   "metadata": {
    "colab_type": "text",
    "id": "dAOw-aVSlqWM"
   },
   "source": [
    "Funzione per filtrare i cestini da svuotare in ogni finestra."
   ]
  },
  {
   "cell_type": "code",
   "execution_count": 10,
   "metadata": {
    "colab": {},
    "colab_type": "code",
    "id": "jZMh-JuwlqWO"
   },
   "outputs": [],
   "source": [
    "def filter_function(data, level=3):\n",
    "    new_data = data.drop_duplicates(subset='bin_serial', keep='last')\n",
    "    new_data = new_data[(new_data.bin_level > level) | new_data.occluded]\n",
    "    return new_data"
   ]
  },
  {
   "cell_type": "markdown",
   "metadata": {
    "colab_type": "text",
    "id": "ZbkOauF-lqWT"
   },
   "source": [
    "## Test"
   ]
  },
  {
   "cell_type": "code",
   "execution_count": 11,
   "metadata": {
    "colab": {},
    "colab_type": "code",
    "id": "G9-DENS-lqWV"
   },
   "outputs": [],
   "source": [
    "import warnings\n",
    "warnings.filterwarnings('ignore')\n",
    "\n",
    "start_date = '2019-09-01 00:00:00'\n",
    "end_date = '2019-10-01 00:00:00'\n",
    "data = df[start_date : end_date]\n",
    "\n",
    "depot = (45.5069182, 9.2684501)\n",
    "vehicle_capacities = 200\n",
    "num_vehicles = 20"
   ]
  },
  {
   "cell_type": "code",
   "execution_count": 12,
   "metadata": {
    "colab": {},
    "colab_type": "code",
    "id": "2y7OMMg6lqWY",
    "outputId": "749aac4e-bd1a-4a4f-c40c-f17784e3e15c"
   },
   "outputs": [
    {
     "name": "stdout",
     "output_type": "stream",
     "text": [
      "# Output #\n",
      "Numero di turni eseguiti: 120.\n",
      "Distanza totale: 17675.593510000002 km.\n",
      "Numero di cestini svuotati: 130845.\n",
      "Numero di veicoli usati: 709.\n"
     ]
    }
   ],
   "source": [
    "simulation = Simulation(depot, SC3_config, window_size=6, max_size=200, filter_function=filter_function, filter_kwargs={})\n",
    "routes = simulation.compute_simulation(data, start_date, end_date, speed=30, emp_time=60, debug=False)\n",
    "simulation.to_csv('Output\\SC3.csv')\n",
    "score = simulation.get_score()\n",
    "\n",
    "print('# Output #')\n",
    "print(f'Numero di turni eseguiti: {str(len(routes))}.')\n",
    "print(f'Distanza totale: {str(score)} km.')\n",
    "total_bins = sum([len(routes[w][c]) for w in range(len(routes)) for c in range(len(routes[w]))])\n",
    "print(f'Numero di cestini svuotati: {str(total_bins)}.')\n",
    "total_vehs = sum([len(routes[w]) for w in range(len(routes))])\n",
    "print(f'Numero di veicoli usati: {str(total_vehs)}.')"
   ]
  }
 ],
 "metadata": {
  "colab": {
   "collapsed_sections": [],
   "name": "Soluzione finale - SC3.ipynb",
   "provenance": []
  },
  "kernelspec": {
   "display_name": "Python 3",
   "language": "python",
   "name": "python3"
  },
  "language_info": {
   "codemirror_mode": {
    "name": "ipython",
    "version": 3
   },
   "file_extension": ".py",
   "mimetype": "text/x-python",
   "name": "python",
   "nbconvert_exporter": "python",
   "pygments_lexer": "ipython3",
   "version": "3.7.4"
  }
 },
 "nbformat": 4,
 "nbformat_minor": 4
}
