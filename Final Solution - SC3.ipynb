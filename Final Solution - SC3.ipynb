{
 "cells": [
  {
   "cell_type": "markdown",
   "source": [
    "# SC3 - Shape-Controlled Clustering and Christofides algorithm"
   ],
   "metadata": {
    "colab_type": "text",
    "id": "7EIr7v7MlqVK"
   }
  },
  {
   "cell_type": "markdown",
   "source": [
    "Final execution test of the chosen algorithm: SC3."
   ],
   "metadata": {
    "colab_type": "text",
    "id": "iemC0yZ2lqVP"
   }
  },
  {
   "cell_type": "markdown",
   "source": [
    "## Installations and imports"
   ],
   "metadata": {
    "colab_type": "text",
    "id": "-27LekL_lqVR"
   }
  },
  {
   "cell_type": "code",
   "execution_count": 1,
   "source": [
    "!pip install haversine ortools pulp numba"
   ],
   "outputs": [
    {
     "output_type": "stream",
     "name": "stdout",
     "text": [
      "Requirement already satisfied: haversine in c:\\users\\giang\\anaconda3\\envs\\ox\\lib\\site-packages (2.2.0)\n",
      "Requirement already satisfied: ortools in c:\\users\\giang\\anaconda3\\envs\\ox\\lib\\site-packages (7.5.7466)\n",
      "Requirement already satisfied: pulp in c:\\users\\giang\\anaconda3\\envs\\ox\\lib\\site-packages (2.0)\n",
      "Requirement already satisfied: numba in c:\\users\\giang\\anaconda3\\envs\\ox\\lib\\site-packages (0.48.0)\n",
      "Requirement already satisfied: protobuf>=3.11.2 in c:\\users\\giang\\anaconda3\\envs\\ox\\lib\\site-packages (from ortools) (3.11.3)\n",
      "Requirement already satisfied: six>=1.10 in c:\\users\\giang\\anaconda3\\envs\\ox\\lib\\site-packages (from ortools) (1.14.0)\n",
      "Requirement already satisfied: pyparsing>=2.0.1 in c:\\users\\giang\\anaconda3\\envs\\ox\\lib\\site-packages (from pulp) (2.4.6)\n",
      "Requirement already satisfied: numpy>=1.15 in c:\\users\\giang\\anaconda3\\envs\\ox\\lib\\site-packages (from numba) (1.18.1)\n",
      "Requirement already satisfied: llvmlite<0.32.0,>=0.31.0dev0 in c:\\users\\giang\\anaconda3\\envs\\ox\\lib\\site-packages (from numba) (0.31.0)\n",
      "Requirement already satisfied: setuptools in c:\\users\\giang\\anaconda3\\envs\\ox\\lib\\site-packages (from numba) (45.2.0.post20200209)\n"
     ]
    }
   ],
   "metadata": {
    "colab": {},
    "colab_type": "code",
    "id": "GBA96obklqVX",
    "outputId": "d3112628-0989-4b52-e53f-6ae720dca161"
   }
  },
  {
   "cell_type": "code",
   "execution_count": 2,
   "source": [
    "import pandas as pd\r\n",
    "from haversine import haversine\r\n",
    "from Simulation import Simulation\r\n",
    "from GoogleRouting import GoogleRouting\r\n",
    "from AdjustedKMeans import AdjustedKMeans\r\n",
    "\r\n",
    "import warnings\r\n",
    "warnings.filterwarnings('ignore')"
   ],
   "outputs": [],
   "metadata": {
    "colab": {},
    "colab_type": "code",
    "id": "EZSlZGzElqVd"
   }
  },
  {
   "cell_type": "markdown",
   "source": [
    "## Data loading and cleaning"
   ],
   "metadata": {
    "colab_type": "text",
    "id": "11z7vQ1llqVh"
   }
  },
  {
   "cell_type": "code",
   "execution_count": 3,
   "source": [
    "FILE_PATH = 'dataset.csv'"
   ],
   "outputs": [],
   "metadata": {
    "colab": {},
    "colab_type": "code",
    "id": "VPwzwZNolqVi"
   }
  },
  {
   "cell_type": "markdown",
   "source": [
    "Let's remove useless columns and records."
   ],
   "metadata": {
    "colab_type": "text",
    "id": "H2whxMHelqVl"
   }
  },
  {
   "cell_type": "code",
   "execution_count": 4,
   "source": [
    "df = pd.read_csv(FILE_PATH)\r\n",
    "df['detected_at'] = pd.to_datetime(df['detected_at'])\r\n",
    "\r\n",
    "USELESS_COLUMNS = ['id','raw_data_id','raw_data_setting_id','Seriale','created_at','DataUltimaRilevazione','DataUltimaTrasmissione','DataPrimaInstallazione','Indirizzo','Cap','UnitaTerritoriale','Viario','Tronco', 'Esterno', 'AreaGestionale']\r\n",
    "df.drop(USELESS_COLUMNS, axis=1, inplace=True)\r\n",
    "\r\n",
    "df.occluded.replace({1:False, 2:True}, inplace=True)\r\n",
    "df.fillna(value=False, inplace=True)\r\n",
    "df = df[df.TipoAnomalia == False]\r\n",
    "df.drop('TipoAnomalia', axis=1, inplace=True)\r\n",
    "df.rename(columns={'Latitudine': 'latitude', 'Longitudine':'longitude'}, inplace=True)\r\n",
    "\r\n",
    "df.set_index('detected_at', inplace=True, drop=True)\r\n",
    "df.sort_index(inplace=True)"
   ],
   "outputs": [],
   "metadata": {
    "colab": {},
    "colab_type": "code",
    "id": "6h8ZgArhlqVm"
   }
  },
  {
   "cell_type": "markdown",
   "source": [
    "Remaining columns:"
   ],
   "metadata": {
    "colab_type": "text",
    "id": "071vK0lulqVt"
   }
  },
  {
   "cell_type": "code",
   "execution_count": 5,
   "source": [
    "print(df.columns.values[1:])"
   ],
   "outputs": [
    {
     "output_type": "stream",
     "name": "stdout",
     "text": [
      "['bin_serial' 'bin_level' 'occluded' 'latitude' 'longitude']\n"
     ]
    }
   ],
   "metadata": {
    "colab": {},
    "colab_type": "code",
    "id": "nuxlmWeglqVu",
    "outputId": "3cae87e9-499c-432e-caf5-92af3706198a"
   }
  },
  {
   "cell_type": "markdown",
   "source": [
    "## Useful functions"
   ],
   "metadata": {
    "colab_type": "text",
    "id": "Ueop1VnjlqVx"
   }
  },
  {
   "cell_type": "markdown",
   "source": [
    "Slender distance:"
   ],
   "metadata": {
    "colab_type": "text",
    "id": "Bzjx7h6PlqVy"
   }
  },
  {
   "cell_type": "code",
   "execution_count": 6,
   "source": [
    "from haversine import haversine\r\n",
    "import math\r\n",
    "\r\n",
    "def slender_distance(p1, p2, center, alpha_1=1, alpha_2=0):\r\n",
    "    ang_d = math.radians(get_angle(p1, p2, center))\r\n",
    "    radial_d = haversine(p1, p2)\r\n",
    "    return alpha_1*ang_d+alpha_2*radial_d\r\n",
    "\r\n",
    "def get_angle(a, b, origin):\r\n",
    "    ang = math.degrees(math.atan2(b[1]-origin[1], b[0]-origin[0]) - math.atan2(a[1]-origin[1], a[0]-origin[0]))\r\n",
    "    ang = abs(ang) if abs(ang) < 180 else 360-abs(ang)\r\n",
    "    return ang"
   ],
   "outputs": [],
   "metadata": {
    "colab": {},
    "colab_type": "code",
    "id": "wBFs5e08lqVz"
   }
  },
  {
   "cell_type": "markdown",
   "source": [
    "# Test configuration"
   ],
   "metadata": {
    "colab_type": "text",
    "id": "IjgnBIIwlqV8"
   }
  },
  {
   "cell_type": "markdown",
   "source": [
    "Parameter configuration for the clustering algorithm.\r\n",
    "\r\n",
    "With the parameter *balanced* toggled the number of bins is split equally among clusters.\r\n",
    "\r\n",
    "*distance* is the distance function used in order to create the clusters. We'll use the slender distance with *alpha*=1 e *beta*=0."
   ],
   "metadata": {
    "colab_type": "text",
    "id": "lSTBHNtLlqV9"
   }
  },
  {
   "cell_type": "code",
   "execution_count": 7,
   "source": [
    "clustering_kwargs = {\r\n",
    "    'max_size' : 200,\r\n",
    "    'balanced': False,\r\n",
    "    'distance': lambda p1, p2 : slender_distance(p1, p2, depot, 1, 0),\r\n",
    "}"
   ],
   "outputs": [],
   "metadata": {
    "colab": {},
    "colab_type": "code",
    "id": "mumId8dIlqV-"
   }
  },
  {
   "cell_type": "markdown",
   "source": [
    "Routing parameters. The number of vehicles is set to one because the algorithm will be run on each cluster separately."
   ],
   "metadata": {
    "colab_type": "text",
    "id": "8sqMjyF4lqWB"
   }
  },
  {
   "cell_type": "code",
   "execution_count": 8,
   "source": [
    "from haversine import haversine\r\n",
    "\r\n",
    "routing_kwargs = {\r\n",
    "    'distance_function': haversine,\r\n",
    "    'vehicle_capacities': 200,\r\n",
    "    'num_vehicles': 1,\r\n",
    "}"
   ],
   "outputs": [],
   "metadata": {
    "colab": {},
    "colab_type": "code",
    "id": "dlquh99ilqWC"
   }
  },
  {
   "cell_type": "markdown",
   "source": [
    "Final configuration."
   ],
   "metadata": {
    "colab_type": "text",
    "id": "SSWg8H50lqWH"
   }
  },
  {
   "cell_type": "code",
   "execution_count": 9,
   "source": [
    "SC3_config = {\r\n",
    "  'cluster_class': AdjustedKMeans,\r\n",
    "  'cluster_kwargs': clustering_kwargs,\r\n",
    "  'graph_class': GoogleRouting,\r\n",
    "  'graph_kwargs': routing_kwargs,\r\n",
    "}"
   ],
   "outputs": [],
   "metadata": {
    "colab": {},
    "colab_type": "code",
    "id": "El804vlBlqWI"
   }
  },
  {
   "cell_type": "markdown",
   "source": [
    "Function to filter the bins that need to be emptied in each time window."
   ],
   "metadata": {
    "colab_type": "text",
    "id": "dAOw-aVSlqWM"
   }
  },
  {
   "cell_type": "code",
   "execution_count": 10,
   "source": [
    "def filter_function(data, level=3):\r\n",
    "    new_data = data.drop_duplicates(subset='bin_serial', keep='last')\r\n",
    "    new_data = new_data[(new_data.bin_level > level) | new_data.occluded]\r\n",
    "    return new_data"
   ],
   "outputs": [],
   "metadata": {
    "colab": {},
    "colab_type": "code",
    "id": "jZMh-JuwlqWO"
   }
  },
  {
   "cell_type": "markdown",
   "source": [
    "## Test"
   ],
   "metadata": {
    "colab_type": "text",
    "id": "ZbkOauF-lqWT"
   }
  },
  {
   "cell_type": "code",
   "execution_count": 11,
   "source": [
    "import warnings\r\n",
    "warnings.filterwarnings('ignore')\r\n",
    "\r\n",
    "start_date = '2019-09-01 00:00:00'\r\n",
    "end_date = '2019-10-01 00:00:00'\r\n",
    "data = df[start_date : end_date]\r\n",
    "\r\n",
    "depot = (45.5069182, 9.2684501)\r\n",
    "vehicle_capacities = 200\r\n",
    "num_vehicles = 20"
   ],
   "outputs": [],
   "metadata": {
    "colab": {},
    "colab_type": "code",
    "id": "G9-DENS-lqWV"
   }
  },
  {
   "cell_type": "code",
   "execution_count": 12,
   "source": [
    "simulation = Simulation(depot, SC3_config, window_size=6, max_size=200, filter_function=filter_function, filter_kwargs={})\r\n",
    "routes = simulation.compute_simulation(data, start_date, end_date, speed=30, emp_time=60, debug=False)\r\n",
    "simulation.to_csv('Output\\SC3.csv')\r\n",
    "score = simulation.get_score()\r\n",
    "\r\n",
    "print('# Output #')\r\n",
    "print(f'Numero di turni eseguiti: {str(len(routes))}.')\r\n",
    "print(f'Distanza totale: {str(score)} km.')\r\n",
    "total_bins = sum([len(routes[w][c]) for w in range(len(routes)) for c in range(len(routes[w]))])\r\n",
    "print(f'Numero di cestini svuotati: {str(total_bins)}.')\r\n",
    "total_vehs = sum([len(routes[w]) for w in range(len(routes))])\r\n",
    "print(f'Numero di veicoli usati: {str(total_vehs)}.')"
   ],
   "outputs": [
    {
     "output_type": "stream",
     "name": "stdout",
     "text": [
      "# Output #\n",
      "Numero di turni eseguiti: 120.\n",
      "Distanza totale: 17675.593510000002 km.\n",
      "Numero di cestini svuotati: 130845.\n",
      "Numero di veicoli usati: 709.\n"
     ]
    }
   ],
   "metadata": {
    "colab": {},
    "colab_type": "code",
    "id": "2y7OMMg6lqWY",
    "outputId": "749aac4e-bd1a-4a4f-c40c-f17784e3e15c"
   }
  }
 ],
 "metadata": {
  "colab": {
   "collapsed_sections": [],
   "name": "Soluzione finale - SC3.ipynb",
   "provenance": []
  },
  "kernelspec": {
   "display_name": "Python 3",
   "language": "python",
   "name": "python3"
  },
  "language_info": {
   "codemirror_mode": {
    "name": "ipython",
    "version": 3
   },
   "file_extension": ".py",
   "mimetype": "text/x-python",
   "name": "python",
   "nbconvert_exporter": "python",
   "pygments_lexer": "ipython3",
   "version": "3.7.4"
  }
 },
 "nbformat": 4,
 "nbformat_minor": 4
}